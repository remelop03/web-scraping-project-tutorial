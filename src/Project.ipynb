{
    "cells": [
        {
            "cell_type": "markdown",
            "metadata": {},
            "source": [
                "# Web Scraping with Python"
            ]
        },
        {
            "cell_type": "markdown",
            "metadata": {},
            "source": [
                "### Step 1: Install dependencies"
            ]
        },
        {
            "cell_type": "code",
            "execution_count": 2,
            "metadata": {},
            "outputs": [],
            "source": [
                "# Libraries\n",
                "import pandas as pd\n",
                "import numpy as np\n",
                "import matplotlib.pyplot as plt\n",
                "import seaborn as sns"
            ]
        },
        {
            "cell_type": "code",
            "execution_count": 3,
            "metadata": {},
            "outputs": [],
            "source": [
                "import os\n",
                "import requests\n",
                "from bs4 import BeautifulSoup\n",
                "import time\n",
                "import sqlite3"
            ]
        },
        {
            "cell_type": "markdown",
            "metadata": {},
            "source": [
                "### Step 2: Download HTML"
            ]
        },
        {
            "cell_type": "code",
            "execution_count": 4,
            "metadata": {},
            "outputs": [],
            "source": [
                "web_page = r'https://en.wikipedia.org/wiki/List_of_Spotify_streaming_records'"
            ]
        },
        {
            "cell_type": "code",
            "execution_count": 5,
            "metadata": {},
            "outputs": [],
            "source": [
                "response = requests.get(web_page)"
            ]
        },
        {
            "cell_type": "code",
            "execution_count": 6,
            "metadata": {},
            "outputs": [
                {
                    "data": {
                        "text/plain": [
                            "200"
                        ]
                    },
                    "execution_count": 6,
                    "metadata": {},
                    "output_type": "execute_result"
                }
            ],
            "source": [
                "response.status_code"
            ]
        },
        {
            "cell_type": "markdown",
            "metadata": {},
            "source": [
                "### Step 3: Transform the HTML"
            ]
        },
        {
            "cell_type": "code",
            "execution_count": 7,
            "metadata": {},
            "outputs": [],
            "source": [
                "# Read Tables\n",
                "tables = pd.read_html(web_page)"
            ]
        },
        {
            "cell_type": "code",
            "execution_count": 8,
            "metadata": {},
            "outputs": [
                {
                    "name": "stdout",
                    "output_type": "stream",
                    "text": [
                        "Total tables: 27\n"
                    ]
                }
            ],
            "source": [
                "# Number of tables in the url\n",
                "print(f'Total tables: {len(tables)}')"
            ]
        },
        {
            "cell_type": "code",
            "execution_count": 9,
            "metadata": {},
            "outputs": [
                {
                    "name": "stdout",
                    "output_type": "stream",
                    "text": [
                        "                  Rank                 Song                      Artist(s)  \\\n",
                        "0                    1    \"Blinding Lights\"                     The Weeknd   \n",
                        "1                    2       \"Shape of You\"                     Ed Sheeran   \n",
                        "2                    3  \"Someone You Loved\"                  Lewis Capaldi   \n",
                        "3                    4            \"Starboy\"       The Weeknd and Daft Punk   \n",
                        "4                    5          \"As It Was\"                   Harry Styles   \n",
                        "..                 ...                  ...                            ...   \n",
                        "96                  97   \"Someone Like You\"                          Adele   \n",
                        "97                  98       \"Stay with Me\"                      Sam Smith   \n",
                        "98                  99             \"Havana\"  Camila Cabello and Young Thug   \n",
                        "99                 100           \"Memories\"                       Maroon 5   \n",
                        "100  As of 22 May 2025    As of 22 May 2025              As of 22 May 2025   \n",
                        "\n",
                        "    Streams (billions)       Release date               Ref.  \n",
                        "0                4.848   29 November 2019                [2]  \n",
                        "1                4.367     6 January 2017                [3]  \n",
                        "2                3.909    8 November 2018                [4]  \n",
                        "3                3.900  21 September 2016                [5]  \n",
                        "4                3.883       1 April 2022                [6]  \n",
                        "..                 ...                ...                ...  \n",
                        "96               2.297    24 January 2011               [98]  \n",
                        "97               2.297      14 April 2014               [99]  \n",
                        "98               2.285      3 August 2017              [100]  \n",
                        "99               2.265  20 September 2019              [101]  \n",
                        "100  As of 22 May 2025  As of 22 May 2025  As of 22 May 2025  \n",
                        "\n",
                        "[101 rows x 6 columns]\n"
                    ]
                }
            ],
            "source": [
                "# Print the first table\n",
                "data = (tables[0])\n",
                "print(data)"
            ]
        },
        {
            "cell_type": "markdown",
            "metadata": {},
            "source": [
                "### Step 4: Process the DataFrame"
            ]
        },
        {
            "cell_type": "code",
            "execution_count": 10,
            "metadata": {},
            "outputs": [
                {
                    "data": {
                        "text/html": [
                            "<div>\n",
                            "<style scoped>\n",
                            "    .dataframe tbody tr th:only-of-type {\n",
                            "        vertical-align: middle;\n",
                            "    }\n",
                            "\n",
                            "    .dataframe tbody tr th {\n",
                            "        vertical-align: top;\n",
                            "    }\n",
                            "\n",
                            "    .dataframe thead th {\n",
                            "        text-align: right;\n",
                            "    }\n",
                            "</style>\n",
                            "<table border=\"1\" class=\"dataframe\">\n",
                            "  <thead>\n",
                            "    <tr style=\"text-align: right;\">\n",
                            "      <th></th>\n",
                            "      <th>Rank</th>\n",
                            "      <th>Song</th>\n",
                            "      <th>Artist(s)</th>\n",
                            "      <th>Streams (billions)</th>\n",
                            "      <th>Release date</th>\n",
                            "      <th>Ref.</th>\n",
                            "    </tr>\n",
                            "  </thead>\n",
                            "  <tbody>\n",
                            "    <tr>\n",
                            "      <th>0</th>\n",
                            "      <td>1</td>\n",
                            "      <td>\"Blinding Lights\"</td>\n",
                            "      <td>The Weeknd</td>\n",
                            "      <td>4.848</td>\n",
                            "      <td>29 November 2019</td>\n",
                            "      <td>[2]</td>\n",
                            "    </tr>\n",
                            "    <tr>\n",
                            "      <th>1</th>\n",
                            "      <td>2</td>\n",
                            "      <td>\"Shape of You\"</td>\n",
                            "      <td>Ed Sheeran</td>\n",
                            "      <td>4.367</td>\n",
                            "      <td>6 January 2017</td>\n",
                            "      <td>[3]</td>\n",
                            "    </tr>\n",
                            "    <tr>\n",
                            "      <th>2</th>\n",
                            "      <td>3</td>\n",
                            "      <td>\"Someone You Loved\"</td>\n",
                            "      <td>Lewis Capaldi</td>\n",
                            "      <td>3.909</td>\n",
                            "      <td>8 November 2018</td>\n",
                            "      <td>[4]</td>\n",
                            "    </tr>\n",
                            "    <tr>\n",
                            "      <th>3</th>\n",
                            "      <td>4</td>\n",
                            "      <td>\"Starboy\"</td>\n",
                            "      <td>The Weeknd and Daft Punk</td>\n",
                            "      <td>3.900</td>\n",
                            "      <td>21 September 2016</td>\n",
                            "      <td>[5]</td>\n",
                            "    </tr>\n",
                            "    <tr>\n",
                            "      <th>4</th>\n",
                            "      <td>5</td>\n",
                            "      <td>\"As It Was\"</td>\n",
                            "      <td>Harry Styles</td>\n",
                            "      <td>3.883</td>\n",
                            "      <td>1 April 2022</td>\n",
                            "      <td>[6]</td>\n",
                            "    </tr>\n",
                            "  </tbody>\n",
                            "</table>\n",
                            "</div>"
                        ],
                        "text/plain": [
                            "  Rank                 Song                 Artist(s) Streams (billions)  \\\n",
                            "0    1    \"Blinding Lights\"                The Weeknd              4.848   \n",
                            "1    2       \"Shape of You\"                Ed Sheeran              4.367   \n",
                            "2    3  \"Someone You Loved\"             Lewis Capaldi              3.909   \n",
                            "3    4            \"Starboy\"  The Weeknd and Daft Punk              3.900   \n",
                            "4    5          \"As It Was\"              Harry Styles              3.883   \n",
                            "\n",
                            "        Release date Ref.  \n",
                            "0   29 November 2019  [2]  \n",
                            "1     6 January 2017  [3]  \n",
                            "2    8 November 2018  [4]  \n",
                            "3  21 September 2016  [5]  \n",
                            "4       1 April 2022  [6]  "
                        ]
                    },
                    "execution_count": 10,
                    "metadata": {},
                    "output_type": "execute_result"
                }
            ],
            "source": [
                "# DataFrame\n",
                "df = pd.DataFrame(data)\n",
                "df.head()"
            ]
        },
        {
            "cell_type": "code",
            "execution_count": 11,
            "metadata": {},
            "outputs": [
                {
                    "name": "stdout",
                    "output_type": "stream",
                    "text": [
                        "<class 'pandas.core.frame.DataFrame'>\n",
                        "RangeIndex: 101 entries, 0 to 100\n",
                        "Data columns (total 6 columns):\n",
                        " #   Column              Non-Null Count  Dtype \n",
                        "---  ------              --------------  ----- \n",
                        " 0   Rank                101 non-null    object\n",
                        " 1   Song                101 non-null    object\n",
                        " 2   Artist(s)           101 non-null    object\n",
                        " 3   Streams (billions)  101 non-null    object\n",
                        " 4   Release date        101 non-null    object\n",
                        " 5   Ref.                101 non-null    object\n",
                        "dtypes: object(6)\n",
                        "memory usage: 4.9+ KB\n"
                    ]
                }
            ],
            "source": [
                "df.info()"
            ]
        },
        {
            "cell_type": "code",
            "execution_count": 12,
            "metadata": {},
            "outputs": [],
            "source": [
                "data_c=data.copy()"
            ]
        },
        {
            "cell_type": "code",
            "execution_count": 13,
            "metadata": {},
            "outputs": [],
            "source": [
                "data_c = data_c.drop(columns=['Ref.'])\n",
                "data_c.drop([100], axis=0, inplace=True)"
            ]
        },
        {
            "cell_type": "code",
            "execution_count": 14,
            "metadata": {},
            "outputs": [
                {
                    "data": {
                        "text/html": [
                            "<div>\n",
                            "<style scoped>\n",
                            "    .dataframe tbody tr th:only-of-type {\n",
                            "        vertical-align: middle;\n",
                            "    }\n",
                            "\n",
                            "    .dataframe tbody tr th {\n",
                            "        vertical-align: top;\n",
                            "    }\n",
                            "\n",
                            "    .dataframe thead th {\n",
                            "        text-align: right;\n",
                            "    }\n",
                            "</style>\n",
                            "<table border=\"1\" class=\"dataframe\">\n",
                            "  <thead>\n",
                            "    <tr style=\"text-align: right;\">\n",
                            "      <th></th>\n",
                            "      <th>Rank</th>\n",
                            "      <th>Song</th>\n",
                            "      <th>Artist(s)</th>\n",
                            "      <th>Streams (billions)</th>\n",
                            "      <th>Release date</th>\n",
                            "    </tr>\n",
                            "  </thead>\n",
                            "  <tbody>\n",
                            "    <tr>\n",
                            "      <th>0</th>\n",
                            "      <td>1</td>\n",
                            "      <td>\"Blinding Lights\"</td>\n",
                            "      <td>The Weeknd</td>\n",
                            "      <td>4.848</td>\n",
                            "      <td>2019-11-29</td>\n",
                            "    </tr>\n",
                            "    <tr>\n",
                            "      <th>1</th>\n",
                            "      <td>2</td>\n",
                            "      <td>\"Shape of You\"</td>\n",
                            "      <td>Ed Sheeran</td>\n",
                            "      <td>4.367</td>\n",
                            "      <td>2017-01-06</td>\n",
                            "    </tr>\n",
                            "    <tr>\n",
                            "      <th>2</th>\n",
                            "      <td>3</td>\n",
                            "      <td>\"Someone You Loved\"</td>\n",
                            "      <td>Lewis Capaldi</td>\n",
                            "      <td>3.909</td>\n",
                            "      <td>2018-11-08</td>\n",
                            "    </tr>\n",
                            "    <tr>\n",
                            "      <th>3</th>\n",
                            "      <td>4</td>\n",
                            "      <td>\"Starboy\"</td>\n",
                            "      <td>The Weeknd and Daft Punk</td>\n",
                            "      <td>3.900</td>\n",
                            "      <td>2016-09-21</td>\n",
                            "    </tr>\n",
                            "    <tr>\n",
                            "      <th>4</th>\n",
                            "      <td>5</td>\n",
                            "      <td>\"As It Was\"</td>\n",
                            "      <td>Harry Styles</td>\n",
                            "      <td>3.883</td>\n",
                            "      <td>2022-04-01</td>\n",
                            "    </tr>\n",
                            "  </tbody>\n",
                            "</table>\n",
                            "</div>"
                        ],
                        "text/plain": [
                            "   Rank                 Song                 Artist(s)  Streams (billions)  \\\n",
                            "0     1    \"Blinding Lights\"                The Weeknd               4.848   \n",
                            "1     2       \"Shape of You\"                Ed Sheeran               4.367   \n",
                            "2     3  \"Someone You Loved\"             Lewis Capaldi               3.909   \n",
                            "3     4            \"Starboy\"  The Weeknd and Daft Punk               3.900   \n",
                            "4     5          \"As It Was\"              Harry Styles               3.883   \n",
                            "\n",
                            "  Release date  \n",
                            "0   2019-11-29  \n",
                            "1   2017-01-06  \n",
                            "2   2018-11-08  \n",
                            "3   2016-09-21  \n",
                            "4   2022-04-01  "
                        ]
                    },
                    "execution_count": 14,
                    "metadata": {},
                    "output_type": "execute_result"
                }
            ],
            "source": [
                "data_c['Release date'] = pd.to_datetime(data_c['Release date'], format='%d %B %Y')\n",
                "data_c['Streams (billions)'] = data_c['Streams (billions)'].astype(float)\n",
                "data_c['Rank'] = data_c['Rank'].astype(int)\n",
                "data_c.head()"
            ]
        },
        {
            "cell_type": "code",
            "execution_count": 15,
            "metadata": {},
            "outputs": [
                {
                    "name": "stdout",
                    "output_type": "stream",
                    "text": [
                        "<class 'pandas.core.frame.DataFrame'>\n",
                        "RangeIndex: 100 entries, 0 to 99\n",
                        "Data columns (total 5 columns):\n",
                        " #   Column              Non-Null Count  Dtype         \n",
                        "---  ------              --------------  -----         \n",
                        " 0   Rank                100 non-null    int64         \n",
                        " 1   Song                100 non-null    object        \n",
                        " 2   Artist(s)           100 non-null    object        \n",
                        " 3   Streams (billions)  100 non-null    float64       \n",
                        " 4   Release date        100 non-null    datetime64[ns]\n",
                        "dtypes: datetime64[ns](1), float64(1), int64(1), object(2)\n",
                        "memory usage: 4.0+ KB\n"
                    ]
                }
            ],
            "source": [
                "data_c.info()"
            ]
        },
        {
            "cell_type": "markdown",
            "metadata": {},
            "source": [
                "### Step 5: Store the data in SQLite"
            ]
        },
        {
            "cell_type": "code",
            "execution_count": 16,
            "metadata": {},
            "outputs": [],
            "source": [
                "database_name = 'spotify.db'"
            ]
        },
        {
            "cell_type": "code",
            "execution_count": 17,
            "metadata": {},
            "outputs": [],
            "source": [
                "conn = sqlite3.connect(database_name)"
            ]
        },
        {
            "cell_type": "code",
            "execution_count": 18,
            "metadata": {},
            "outputs": [],
            "source": [
                "table_name = 'most_streamed_songs'"
            ]
        },
        {
            "cell_type": "code",
            "execution_count": 20,
            "metadata": {},
            "outputs": [],
            "source": [
                "data_c.to_sql(table_name, conn, if_exists='replace', index=False);"
            ]
        },
        {
            "cell_type": "code",
            "execution_count": 21,
            "metadata": {},
            "outputs": [],
            "source": [
                "cursor = conn.cursor()"
            ]
        },
        {
            "cell_type": "code",
            "execution_count": 22,
            "metadata": {},
            "outputs": [],
            "source": [
                "pulled_data = cursor.execute('SELECT * FROM most_streamed_songs')"
            ]
        },
        {
            "cell_type": "code",
            "execution_count": 23,
            "metadata": {},
            "outputs": [],
            "source": [
                "conn.commit()"
            ]
        },
        {
            "cell_type": "markdown",
            "metadata": {},
            "source": [
                "### Step 6: Visualize the data (optional, but highly recommended)"
            ]
        },
        {
            "cell_type": "code",
            "execution_count": 24,
            "metadata": {},
            "outputs": [
                {
                    "name": "stdout",
                    "output_type": "stream",
                    "text": [
                        "Rank = 1, Song = \"Blinding Lights\", Artist(s) = The Weeknd,  Streams (billions) = 4.848, Release date = 2019-11-29 00:00:00\n",
                        "Rank = 2, Song = \"Shape of You\", Artist(s) = Ed Sheeran,  Streams (billions) = 4.367, Release date = 2017-01-06 00:00:00\n",
                        "Rank = 3, Song = \"Someone You Loved\", Artist(s) = Lewis Capaldi,  Streams (billions) = 3.909, Release date = 2018-11-08 00:00:00\n",
                        "Rank = 4, Song = \"Starboy\", Artist(s) = The Weeknd and Daft Punk,  Streams (billions) = 3.9, Release date = 2016-09-21 00:00:00\n",
                        "Rank = 5, Song = \"As It Was\", Artist(s) = Harry Styles,  Streams (billions) = 3.883, Release date = 2022-04-01 00:00:00\n",
                        "Rank = 6, Song = \"Sunflower\", Artist(s) = Post Malone and Swae Lee,  Streams (billions) = 3.82, Release date = 2018-10-18 00:00:00\n",
                        "Rank = 7, Song = \"Sweater Weather\", Artist(s) = The Neighbourhood,  Streams (billions) = 3.783, Release date = 2012-12-03 00:00:00\n",
                        "Rank = 8, Song = \"One Dance\", Artist(s) = Drake with Wizkid and Kyla,  Streams (billions) = 3.638, Release date = 2016-04-05 00:00:00\n",
                        "Rank = 9, Song = \"Stay\", Artist(s) = The Kid Laroi and Justin Bieber,  Streams (billions) = 3.554, Release date = 2021-07-09 00:00:00\n",
                        "Rank = 10, Song = \"Perfect\", Artist(s) = Ed Sheeran,  Streams (billions) = 3.441, Release date = 2017-09-26 00:00:00\n",
                        "Rank = 11, Song = \"Believer\", Artist(s) = Imagine Dragons,  Streams (billions) = 3.436, Release date = 2017-02-01 00:00:00\n",
                        "Rank = 12, Song = \"Heat Waves\", Artist(s) = Glass Animals,  Streams (billions) = 3.389, Release date = 2020-06-29 00:00:00\n",
                        "Rank = 13, Song = \"Lovely\", Artist(s) = Billie Eilish and Khalid,  Streams (billions) = 3.317, Release date = 2018-04-19 00:00:00\n",
                        "Rank = 14, Song = \"Closer\", Artist(s) = The Chainsmokers and Halsey,  Streams (billions) = 3.27, Release date = 2016-07-29 00:00:00\n",
                        "Rank = 15, Song = \"Say You Won't Let Go\", Artist(s) = James Arthur,  Streams (billions) = 3.263, Release date = 2016-09-09 00:00:00\n",
                        "Rank = 16, Song = \"Dance Monkey\", Artist(s) = Tones and I,  Streams (billions) = 3.262, Release date = 2019-05-10 00:00:00\n",
                        "Rank = 17, Song = \"Rockstar\", Artist(s) = Post Malone and 21 Savage,  Streams (billions) = 3.178, Release date = 2017-09-15 00:00:00\n",
                        "Rank = 18, Song = \"Something Just Like This\", Artist(s) = The Chainsmokers and Coldplay,  Streams (billions) = 3.161, Release date = 2017-02-22 00:00:00\n",
                        "Rank = 19, Song = \"Riptide\", Artist(s) = Vance Joy,  Streams (billions) = 3.106, Release date = 2013-05-21 00:00:00\n",
                        "Rank = 20, Song = \"I Wanna Be Yours\", Artist(s) = Arctic Monkeys,  Streams (billions) = 3.047, Release date = 2013-09-09 00:00:00\n",
                        "Rank = 21, Song = \"Take Me to Church\", Artist(s) = Hozier,  Streams (billions) = 3.035, Release date = 2013-09-13 00:00:00\n",
                        "Rank = 22, Song = \"Another Love\", Artist(s) = Tom Odell,  Streams (billions) = 3.029, Release date = 2012-10-15 00:00:00\n",
                        "Rank = 23, Song = \"Yellow\", Artist(s) = Coldplay,  Streams (billions) = 3.029, Release date = 2000-06-26 00:00:00\n",
                        "Rank = 24, Song = \"Watermelon Sugar\", Artist(s) = Harry Styles,  Streams (billions) = 3.012, Release date = 2019-12-13 00:00:00\n",
                        "Rank = 25, Song = \"Señorita\", Artist(s) = Shawn Mendes and Camila Cabello,  Streams (billions) = 3.009, Release date = 2019-06-21 00:00:00\n",
                        "Rank = 26, Song = \"The Night We Met\", Artist(s) = Lord Huron,  Streams (billions) = 2.996, Release date = 2015-04-07 00:00:00\n",
                        "Rank = 27, Song = \"Counting Stars\", Artist(s) = OneRepublic,  Streams (billions) = 2.969, Release date = 2013-06-14 00:00:00\n",
                        "Rank = 28, Song = \"Photograph\", Artist(s) = Ed Sheeran,  Streams (billions) = 2.936, Release date = 2015-05-11 00:00:00\n",
                        "Rank = 29, Song = \"Don't Start Now\", Artist(s) = Dua Lipa,  Streams (billions) = 2.928, Release date = 2019-10-31 00:00:00\n",
                        "Rank = 30, Song = \"Cruel Summer\", Artist(s) = Taylor Swift,  Streams (billions) = 2.899, Release date = 2019-08-23 00:00:00\n",
                        "Rank = 31, Song = \"Lucid Dreams\", Artist(s) = Juice Wrld,  Streams (billions) = 2.885, Release date = 2018-05-04 00:00:00\n",
                        "Rank = 32, Song = \"Can't Hold Us\", Artist(s) = Macklemore & Ryan Lewis with Ray Dalton,  Streams (billions) = 2.884, Release date = 2011-08-16 00:00:00\n",
                        "Rank = 33, Song = \"Goosebumps\", Artist(s) = Travis Scott,  Streams (billions) = 2.834, Release date = 2016-12-13 00:00:00\n",
                        "Rank = 34, Song = \"Circles\", Artist(s) = Post Malone,  Streams (billions) = 2.827, Release date = 2019-08-30 00:00:00\n",
                        "Rank = 35, Song = \"Bohemian Rhapsody\", Artist(s) = Queen,  Streams (billions) = 2.799, Release date = 1975-10-31 00:00:00\n",
                        "Rank = 36, Song = \"Die for You\", Artist(s) = The Weeknd,  Streams (billions) = 2.79, Release date = 2016-11-25 00:00:00\n",
                        "Rank = 37, Song = \"Thinking Out Loud\", Artist(s) = Ed Sheeran,  Streams (billions) = 2.776, Release date = 2014-08-14 00:00:00\n",
                        "Rank = 38, Song = \"God's Plan\", Artist(s) = Drake,  Streams (billions) = 2.776, Release date = 2018-01-19 00:00:00\n",
                        "Rank = 39, Song = \"Love Yourself\", Artist(s) = Justin Bieber,  Streams (billions) = 2.773, Release date = 2015-12-27 00:00:00\n",
                        "Rank = 40, Song = \"Shallow\", Artist(s) = Lady Gaga and Bradley Cooper,  Streams (billions) = 2.77, Release date = 2018-09-27 00:00:00\n",
                        "Rank = 41, Song = \"Viva La Vida\", Artist(s) = Coldplay,  Streams (billions) = 2.761, Release date = 2008-05-25 00:00:00\n",
                        "Rank = 42, Song = \"Just the Way You Are\", Artist(s) = Bruno Mars,  Streams (billions) = 2.749, Release date = 2010-07-20 00:00:00\n",
                        "Rank = 43, Song = \"All of Me\", Artist(s) = John Legend,  Streams (billions) = 2.732, Release date = 2013-08-12 00:00:00\n",
                        "Rank = 44, Song = \"Bad Guy\", Artist(s) = Billie Eilish,  Streams (billions) = 2.729, Release date = 2019-03-29 00:00:00\n",
                        "Rank = 45, Song = \"Wake Me Up\", Artist(s) = Avicii,  Streams (billions) = 2.723, Release date = 2013-06-17 00:00:00\n",
                        "Rank = 46, Song = \"Thunder\", Artist(s) = Imagine Dragons,  Streams (billions) = 2.716, Release date = 2017-04-27 00:00:00\n",
                        "Rank = 47, Song = \"Demons\", Artist(s) = Imagine Dragons,  Streams (billions) = 2.678, Release date = 2013-01-28 00:00:00\n",
                        "Rank = 48, Song = \"Every Breath You Take\", Artist(s) = The Police,  Streams (billions) = 2.662, Release date = 1983-05-20 00:00:00\n",
                        "Rank = 49, Song = \"The Hills\", Artist(s) = The Weeknd,  Streams (billions) = 2.661, Release date = 2015-05-27 00:00:00\n",
                        "Rank = 50, Song = \"Locked out of Heaven\", Artist(s) = Bruno Mars,  Streams (billions) = 2.658, Release date = 2012-10-01 00:00:00\n",
                        "Rank = 51, Song = \"Stressed Out\", Artist(s) = Twenty One Pilots,  Streams (billions) = 2.657, Release date = 2015-04-28 00:00:00\n",
                        "Rank = 52, Song = \"When I Was Your Man\", Artist(s) = Bruno Mars,  Streams (billions) = 2.646, Release date = 2013-01-15 00:00:00\n",
                        "Rank = 53, Song = \"That's What I Like\", Artist(s) = Bruno Mars,  Streams (billions) = 2.639, Release date = 2017-01-30 00:00:00\n",
                        "Rank = 54, Song = \"Humble\", Artist(s) = Kendrick Lamar,  Streams (billions) = 2.637, Release date = 2017-03-30 00:00:00\n",
                        "Rank = 55, Song = \"Without Me\", Artist(s) = Eminem,  Streams (billions) = 2.637, Release date = 2002-05-14 00:00:00\n",
                        "Rank = 56, Song = \"Mr. Brightside\", Artist(s) = The Killers,  Streams (billions) = 2.629, Release date = 2003-09-29 00:00:00\n",
                        "Rank = 57, Song = \"No Role Modelz\", Artist(s) = J. Cole,  Streams (billions) = 2.587, Release date = 2014-12-09 00:00:00\n",
                        "Rank = 58, Song = \"Do I Wanna Know?\", Artist(s) = Arctic Monkeys,  Streams (billions) = 2.583, Release date = 2013-06-19 00:00:00\n",
                        "Rank = 59, Song = \"Birds of a Feather\", Artist(s) = Billie Eilish,  Streams (billions) = 2.573, Release date = 2024-05-17 00:00:00\n",
                        "Rank = 60, Song = \"In The End\", Artist(s) = Linkin Park,  Streams (billions) = 2.573, Release date = 2001-10-09 00:00:00\n",
                        "Rank = 61, Song = \"Lose Yourself\", Artist(s) = Eminem,  Streams (billions) = 2.561, Release date = 2002-10-28 00:00:00\n",
                        "Rank = 62, Song = \"Let Her Go\", Artist(s) = Passenger,  Streams (billions) = 2.554, Release date = 2012-07-24 00:00:00\n",
                        "Rank = 63, Song = \"Flowers\", Artist(s) = Miley Cyrus,  Streams (billions) = 2.538, Release date = 2023-01-13 00:00:00\n",
                        "Rank = 64, Song = \"7 Rings\", Artist(s) = Ariana Grande,  Streams (billions) = 2.532, Release date = 2019-01-18 00:00:00\n",
                        "Rank = 65, Song = \"Unforgettable\", Artist(s) = French Montana and Swae Lee,  Streams (billions) = 2.513, Release date = 2017-04-07 00:00:00\n",
                        "Rank = 66, Song = \"Let Me Love You\", Artist(s) = DJ Snake and Justin Bieber,  Streams (billions) = 2.508, Release date = 2016-08-05 00:00:00\n",
                        "Rank = 67, Song = \"Die With A Smile\", Artist(s) = Lady Gaga and Bruno Mars,  Streams (billions) = 2.502, Release date = 2024-08-16 00:00:00\n",
                        "Rank = 68, Song = \"Drivers License\", Artist(s) = Olivia Rodrigo,  Streams (billions) = 2.5, Release date = 2021-01-08 00:00:00\n",
                        "Rank = 69, Song = \"Treat You Better\", Artist(s) = Shawn Mendes,  Streams (billions) = 2.496, Release date = 2016-06-03 00:00:00\n",
                        "Rank = 70, Song = \"Kill Bill\", Artist(s) = SZA,  Streams (billions) = 2.488, Release date = 2022-12-09 00:00:00\n",
                        "Rank = 71, Song = \"One Kiss\", Artist(s) = Calvin Harris and Dua Lipa,  Streams (billions) = 2.454, Release date = 2018-04-06 00:00:00\n",
                        "Rank = 72, Song = \"Sorry\", Artist(s) = Justin Bieber,  Streams (billions) = 2.436, Release date = 2015-10-22 00:00:00\n",
                        "Rank = 73, Song = \"Good 4 U\", Artist(s) = Olivia Rodrigo,  Streams (billions) = 2.428, Release date = 2021-05-14 00:00:00\n",
                        "Rank = 74, Song = \"Don't Stop Believin'\", Artist(s) = Journey,  Streams (billions) = 2.421, Release date = 1981-10-19 00:00:00\n",
                        "Rank = 75, Song = \"There's Nothing Holdin' Me Back\", Artist(s) = Shawn Mendes,  Streams (billions) = 2.415, Release date = 2017-04-20 00:00:00\n",
                        "Rank = 76, Song = \"Smells Like Teen Spirit\", Artist(s) = Nirvana,  Streams (billions) = 2.414, Release date = 1991-09-10 00:00:00\n",
                        "Rank = 77, Song = \"Happier\", Artist(s) = Marshmello and Bastille,  Streams (billions) = 2.401, Release date = 2018-08-16 00:00:00\n",
                        "Rank = 78, Song = \"Iris\", Artist(s) = Goo Goo Dolls,  Streams (billions) = 2.383, Release date = 1998-04-01 00:00:00\n",
                        "Rank = 79, Song = \"Sad!\", Artist(s) = XXXTentacion,  Streams (billions) = 2.383, Release date = 2018-03-02 00:00:00\n",
                        "Rank = 80, Song = \"Cold Heart (Pnau remix)\", Artist(s) = Elton John and Dua Lipa with Pnau,  Streams (billions) = 2.38, Release date = 2021-08-13 00:00:00\n",
                        "Rank = 81, Song = \"See You Again\", Artist(s) = Tyler, the Creator and Kali Uchis,  Streams (billions) = 2.374, Release date = 2017-07-21 00:00:00\n",
                        "Rank = 82, Song = \"Sicko Mode\", Artist(s) = Travis Scott and Drake,  Streams (billions) = 2.37, Release date = 2018-08-21 00:00:00\n",
                        "Rank = 83, Song = \"Jocelyn Flores\", Artist(s) = XXXTentacion,  Streams (billions) = 2.37, Release date = 2017-10-31 00:00:00\n",
                        "Rank = 84, Song = \"Seven\", Artist(s) = Jung Kook and Latto,  Streams (billions) = 2.363, Release date = 2023-07-14 00:00:00\n",
                        "Rank = 85, Song = \"Lean On\", Artist(s) = Major Lazer and DJ Snake with M∅,  Streams (billions) = 2.359, Release date = 2015-03-02 00:00:00\n",
                        "Rank = 86, Song = \"Save Your Tears\", Artist(s) = The Weeknd,  Streams (billions) = 2.355, Release date = 2020-03-20 00:00:00\n",
                        "Rank = 87, Song = \"The Scientist\", Artist(s) = Coldplay,  Streams (billions) = 2.35, Release date = 2002-05-26 00:00:00\n",
                        "Rank = 88, Song = \"All The Stars\", Artist(s) = Kendrick Lamar and SZA,  Streams (billions) = 2.346, Release date = 2018-10-04 00:00:00\n",
                        "Rank = 89, Song = \"Wonderwall\", Artist(s) = Oasis,  Streams (billions) = 2.345, Release date = 1995-10-30 00:00:00\n",
                        "Rank = 90, Song = \"XO Tour Llif3\", Artist(s) = Lil Uzi Vert,  Streams (billions) = 2.341, Release date = 2017-03-24 00:00:00\n",
                        "Rank = 91, Song = \"Take On Me\", Artist(s) = A-ha,  Streams (billions) = 2.326, Release date = 1984-10-19 00:00:00\n",
                        "Rank = 92, Song = \"Don't Stop Me Now\", Artist(s) = Queen,  Streams (billions) = 2.326, Release date = 1979-01-26 00:00:00\n",
                        "Rank = 93, Song = \"Levitating\", Artist(s) = Dua Lipa and DaBaby,  Streams (billions) = 2.324, Release date = 2020-10-01 00:00:00\n",
                        "Rank = 94, Song = \"Uptown Funk\", Artist(s) = Mark Ronson and Bruno Mars,  Streams (billions) = 2.324, Release date = 2014-11-10 00:00:00\n",
                        "Rank = 95, Song = \"New Rules\", Artist(s) = Dua Lipa,  Streams (billions) = 2.319, Release date = 2017-07-07 00:00:00\n",
                        "Rank = 96, Song = \"Too Good at Goodbyes\", Artist(s) = Sam Smith,  Streams (billions) = 2.306, Release date = 2017-09-08 00:00:00\n",
                        "Rank = 97, Song = \"Someone Like You\", Artist(s) = Adele,  Streams (billions) = 2.297, Release date = 2011-01-24 00:00:00\n",
                        "Rank = 98, Song = \"Stay with Me\", Artist(s) = Sam Smith,  Streams (billions) = 2.297, Release date = 2014-04-14 00:00:00\n",
                        "Rank = 99, Song = \"Havana\", Artist(s) = Camila Cabello and Young Thug,  Streams (billions) = 2.285, Release date = 2017-08-03 00:00:00\n",
                        "Rank = 100, Song = \"Memories\", Artist(s) = Maroon 5,  Streams (billions) = 2.265, Release date = 2019-09-20 00:00:00\n"
                    ]
                }
            ],
            "source": [
                "for row in pulled_data:\n",
                "    print(f\"Rank = {row[0]}, Song = {row[1]}, Artist(s) = {row[2]},  Streams (billions) = {row[3]}, Release date = {row[4]}\")"
            ]
        },
        {
            "cell_type": "code",
            "execution_count": 25,
            "metadata": {},
            "outputs": [],
            "source": [
                "conn.close()"
            ]
        }
    ],
    "metadata": {
        "kernelspec": {
            "display_name": "Python 3",
            "language": "python",
            "name": "python3"
        },
        "language_info": {
            "codemirror_mode": {
                "name": "ipython",
                "version": 3
            },
            "file_extension": ".py",
            "mimetype": "text/x-python",
            "name": "python",
            "nbconvert_exporter": "python",
            "pygments_lexer": "ipython3",
            "version": "3.11.4"
        },
        "orig_nbformat": 4
    },
    "nbformat": 4,
    "nbformat_minor": 2
}
